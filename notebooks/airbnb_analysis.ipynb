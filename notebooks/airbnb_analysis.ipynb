{
 "cells": [
  {
   "cell_type": "markdown",
   "metadata": {},
   "source": [
    "# Análise - Airbnb Latam"
   ]
  },
  {
   "cell_type": "markdown",
   "metadata": {},
   "source": [
    "Você trabalha na divisão América Latina do Airbnb e está comparando a operação do Airbnb nos 4 principais países da empresa na região: Brasil, México, Argentina e Colômbia. Um dos objetivos da divisão é aumentar a quantidade de diárias reservadas por turistas estrangeiros nas hospedagens disponíveis na América Latina."
   ]
  },
  {
   "cell_type": "code",
   "execution_count": 1,
   "metadata": {},
   "outputs": [],
   "source": [
    "# Importando as libs\n",
    "import pandas as pd\n",
    "import numpy as np\n",
    "import seaborn as sns\n",
    "import matplotlib.pyplot"
   ]
  },
  {
   "cell_type": "code",
   "execution_count": 2,
   "metadata": {},
   "outputs": [],
   "source": [
    "# Caminho do csv\n",
    "path = 'C:/Users/João Henrique/Documents/Projetos/airbnb-analysis/data/Airbnb - Imoveis.csv'"
   ]
  },
  {
   "cell_type": "code",
   "execution_count": 3,
   "metadata": {},
   "outputs": [],
   "source": [
    "# Ler csv\n",
    "df = pd.read_csv(path)"
   ]
  },
  {
   "cell_type": "code",
   "execution_count": 4,
   "metadata": {},
   "outputs": [
    {
     "data": {
      "text/html": [
       "<div>\n",
       "<style scoped>\n",
       "    .dataframe tbody tr th:only-of-type {\n",
       "        vertical-align: middle;\n",
       "    }\n",
       "\n",
       "    .dataframe tbody tr th {\n",
       "        vertical-align: top;\n",
       "    }\n",
       "\n",
       "    .dataframe thead th {\n",
       "        text-align: right;\n",
       "    }\n",
       "</style>\n",
       "<table border=\"1\" class=\"dataframe\">\n",
       "  <thead>\n",
       "    <tr style=\"text-align: right;\">\n",
       "      <th></th>\n",
       "      <th>Nome do local</th>\n",
       "      <th>Localização</th>\n",
       "      <th>País</th>\n",
       "      <th>Tipo de acomodação</th>\n",
       "      <th>Classificação</th>\n",
       "      <th>Comodidades</th>\n",
       "      <th>Políticas de cancelamento</th>\n",
       "      <th>Preço</th>\n",
       "      <th>Número de reservas no ano</th>\n",
       "      <th>Número de Fotos</th>\n",
       "    </tr>\n",
       "  </thead>\n",
       "  <tbody>\n",
       "    <tr>\n",
       "      <th>0</th>\n",
       "      <td>Hostel Montanha</td>\n",
       "      <td>San Andrés</td>\n",
       "      <td>Colômbia</td>\n",
       "      <td>Hostel</td>\n",
       "      <td>5 estrelas</td>\n",
       "      <td>Wi-Fi, café da manhã</td>\n",
       "      <td>7 dias antes</td>\n",
       "      <td>$30,00</td>\n",
       "      <td>11</td>\n",
       "      <td>5</td>\n",
       "    </tr>\n",
       "    <tr>\n",
       "      <th>1</th>\n",
       "      <td>Mirliban</td>\n",
       "      <td>Buenos Aires</td>\n",
       "      <td>Argentina</td>\n",
       "      <td>Apartamento</td>\n",
       "      <td>5 estrelas</td>\n",
       "      <td>Wi-Fi, ar condicionado</td>\n",
       "      <td>72 horas</td>\n",
       "      <td>$10,00</td>\n",
       "      <td>25</td>\n",
       "      <td>7</td>\n",
       "    </tr>\n",
       "    <tr>\n",
       "      <th>2</th>\n",
       "      <td>Estrela Dourada</td>\n",
       "      <td>Guadalajara</td>\n",
       "      <td>México</td>\n",
       "      <td>Hotel</td>\n",
       "      <td>5 estrelas</td>\n",
       "      <td>Piscina, recepção</td>\n",
       "      <td>reembolsável</td>\n",
       "      <td>$14,00</td>\n",
       "      <td>73</td>\n",
       "      <td>12</td>\n",
       "    </tr>\n",
       "    <tr>\n",
       "      <th>3</th>\n",
       "      <td>Mar Azul Beach</td>\n",
       "      <td>Fortaleza</td>\n",
       "      <td>Brasil</td>\n",
       "      <td>Hotel</td>\n",
       "      <td>5 estrelas</td>\n",
       "      <td>Wi-Fi, armários</td>\n",
       "      <td>48 horas antes</td>\n",
       "      <td>$35,00</td>\n",
       "      <td>162</td>\n",
       "      <td>2</td>\n",
       "    </tr>\n",
       "    <tr>\n",
       "      <th>4</th>\n",
       "      <td>Montanha Mágica</td>\n",
       "      <td>Curitiba</td>\n",
       "      <td>Brasil</td>\n",
       "      <td>Quarto</td>\n",
       "      <td>4 estrelas</td>\n",
       "      <td>Piscina, churrasqueira</td>\n",
       "      <td>7 dias antes</td>\n",
       "      <td>$48,00</td>\n",
       "      <td>200</td>\n",
       "      <td>2</td>\n",
       "    </tr>\n",
       "  </tbody>\n",
       "</table>\n",
       "</div>"
      ],
      "text/plain": [
       "     Nome do local   Localização       País Tipo de acomodação Classificação  \\\n",
       "0  Hostel Montanha    San Andrés   Colômbia             Hostel    5 estrelas   \n",
       "1         Mirliban  Buenos Aires  Argentina        Apartamento    5 estrelas   \n",
       "2  Estrela Dourada   Guadalajara     México              Hotel    5 estrelas   \n",
       "3   Mar Azul Beach     Fortaleza     Brasil              Hotel    5 estrelas   \n",
       "4  Montanha Mágica      Curitiba     Brasil             Quarto    4 estrelas   \n",
       "\n",
       "              Comodidades Políticas de cancelamento   Preço  \\\n",
       "0    Wi-Fi, café da manhã              7 dias antes  $30,00   \n",
       "1  Wi-Fi, ar condicionado                  72 horas  $10,00   \n",
       "2       Piscina, recepção              reembolsável  $14,00   \n",
       "3         Wi-Fi, armários            48 horas antes  $35,00   \n",
       "4  Piscina, churrasqueira              7 dias antes  $48,00   \n",
       "\n",
       "   Número de reservas no ano  Número de Fotos  \n",
       "0                         11                5  \n",
       "1                         25                7  \n",
       "2                         73               12  \n",
       "3                        162                2  \n",
       "4                        200                2  "
      ]
     },
     "execution_count": 4,
     "metadata": {},
     "output_type": "execute_result"
    }
   ],
   "source": [
    "# Mostrando o df\n",
    "df.head()"
   ]
  },
  {
   "cell_type": "code",
   "execution_count": 5,
   "metadata": {},
   "outputs": [
    {
     "data": {
      "text/plain": [
       "(49, 10)"
      ]
     },
     "execution_count": 5,
     "metadata": {},
     "output_type": "execute_result"
    }
   ],
   "source": [
    "# Tamanho do df (linhas x colunas)\n",
    "df.shape"
   ]
  },
  {
   "cell_type": "code",
   "execution_count": 6,
   "metadata": {},
   "outputs": [
    {
     "name": "stdout",
     "output_type": "stream",
     "text": [
      "<class 'pandas.core.frame.DataFrame'>\n",
      "RangeIndex: 49 entries, 0 to 48\n",
      "Data columns (total 10 columns):\n",
      " #   Column                     Non-Null Count  Dtype \n",
      "---  ------                     --------------  ----- \n",
      " 0   Nome do local              49 non-null     object\n",
      " 1   Localização                49 non-null     object\n",
      " 2   País                       49 non-null     object\n",
      " 3   Tipo de acomodação         49 non-null     object\n",
      " 4   Classificação              49 non-null     object\n",
      " 5   Comodidades                49 non-null     object\n",
      " 6   Políticas de cancelamento  49 non-null     object\n",
      " 7   Preço                      49 non-null     object\n",
      " 8   Número de reservas no ano  49 non-null     int64 \n",
      " 9   Número de Fotos            49 non-null     int64 \n",
      "dtypes: int64(2), object(8)\n",
      "memory usage: 4.0+ KB\n"
     ]
    }
   ],
   "source": [
    "# Informações do df\n",
    "df.info()"
   ]
  },
  {
   "cell_type": "markdown",
   "metadata": {},
   "source": [
    "## 1. Analise as principais métricas aos preços das diárias nos 4 países e compartilhe os 3 principais insights que você teve ao compará-las entre os países."
   ]
  },
  {
   "cell_type": "code",
   "execution_count": 7,
   "metadata": {},
   "outputs": [],
   "source": [
    "# Convertendo o tipo da coluna preço para float\n",
    "df['Preço'] = df['Preço'].str.replace('$', '', regex=False).str.replace(',', '.', regex=False).astype(float)"
   ]
  },
  {
   "cell_type": "code",
   "execution_count": null,
   "metadata": {},
   "outputs": [
    {
     "data": {
      "text/html": [
       "<div>\n",
       "<style scoped>\n",
       "    .dataframe tbody tr th:only-of-type {\n",
       "        vertical-align: middle;\n",
       "    }\n",
       "\n",
       "    .dataframe tbody tr th {\n",
       "        vertical-align: top;\n",
       "    }\n",
       "\n",
       "    .dataframe thead th {\n",
       "        text-align: right;\n",
       "    }\n",
       "</style>\n",
       "<table border=\"1\" class=\"dataframe\">\n",
       "  <thead>\n",
       "    <tr style=\"text-align: right;\">\n",
       "      <th></th>\n",
       "      <th>count</th>\n",
       "      <th>mean</th>\n",
       "      <th>std</th>\n",
       "      <th>min</th>\n",
       "      <th>25%</th>\n",
       "      <th>50%</th>\n",
       "      <th>75%</th>\n",
       "      <th>max</th>\n",
       "    </tr>\n",
       "    <tr>\n",
       "      <th>País</th>\n",
       "      <th></th>\n",
       "      <th></th>\n",
       "      <th></th>\n",
       "      <th></th>\n",
       "      <th></th>\n",
       "      <th></th>\n",
       "      <th></th>\n",
       "      <th></th>\n",
       "    </tr>\n",
       "  </thead>\n",
       "  <tbody>\n",
       "    <tr>\n",
       "      <th>Argentina</th>\n",
       "      <td>10.0</td>\n",
       "      <td>168.100000</td>\n",
       "      <td>78.297793</td>\n",
       "      <td>10.0</td>\n",
       "      <td>137.00</td>\n",
       "      <td>183.5</td>\n",
       "      <td>223.75</td>\n",
       "      <td>272.0</td>\n",
       "    </tr>\n",
       "    <tr>\n",
       "      <th>Brasil</th>\n",
       "      <td>15.0</td>\n",
       "      <td>163.200000</td>\n",
       "      <td>81.600245</td>\n",
       "      <td>35.0</td>\n",
       "      <td>101.50</td>\n",
       "      <td>170.0</td>\n",
       "      <td>218.50</td>\n",
       "      <td>300.0</td>\n",
       "    </tr>\n",
       "    <tr>\n",
       "      <th>Colômbia</th>\n",
       "      <td>14.0</td>\n",
       "      <td>145.928571</td>\n",
       "      <td>61.537311</td>\n",
       "      <td>30.0</td>\n",
       "      <td>114.75</td>\n",
       "      <td>160.0</td>\n",
       "      <td>193.50</td>\n",
       "      <td>249.0</td>\n",
       "    </tr>\n",
       "    <tr>\n",
       "      <th>México</th>\n",
       "      <td>10.0</td>\n",
       "      <td>152.700000</td>\n",
       "      <td>72.562693</td>\n",
       "      <td>14.0</td>\n",
       "      <td>139.00</td>\n",
       "      <td>156.5</td>\n",
       "      <td>183.25</td>\n",
       "      <td>289.0</td>\n",
       "    </tr>\n",
       "  </tbody>\n",
       "</table>\n",
       "</div>"
      ],
      "text/plain": [
       "           count        mean        std   min     25%    50%     75%    max\n",
       "País                                                                       \n",
       "Argentina   10.0  168.100000  78.297793  10.0  137.00  183.5  223.75  272.0\n",
       "Brasil      15.0  163.200000  81.600245  35.0  101.50  170.0  218.50  300.0\n",
       "Colômbia    14.0  145.928571  61.537311  30.0  114.75  160.0  193.50  249.0\n",
       "México      10.0  152.700000  72.562693  14.0  139.00  156.5  183.25  289.0"
      ]
     },
     "execution_count": 20,
     "metadata": {},
     "output_type": "execute_result"
    }
   ],
   "source": [
    "# Verificando as métricas de preço dos 4 países\n",
    "df.groupby('País')['Preço'].describe()"
   ]
  },
  {
   "cell_type": "markdown",
   "metadata": {},
   "source": [
    "Apesar de ser um dos países com menor quantidade de reservas (10) a Argentina se mostra o país com a maior média e mediana e um dos menores desvio padrão, isso indica que os valores não estão tão dispersos da média.  \n",
    "O Brasil é o país com mais reservas (15) e uma média de $163.20, vemos que o desvio padrão é exatamente metade da média, isso nos mostra que temos uma grande dispersão em relação a média, também podemos ver que é o país\n",
    "com a maior reserva $300.00.  \n",
    "Apesar da Colômbia ser o 2 país com mais reservas (14), é o país com menor média e com menor desvio padrão, ou seja, os valores das reservas estão próximos a média, sua maior reserva $249.00 ainda é a menor se comparado aos outros\n",
    "países, como a quantidade de reservas é alta, podemos tirar que é um dos países custo-benefício de se visitar."
   ]
  },
  {
   "cell_type": "code",
   "execution_count": 25,
   "metadata": {},
   "outputs": [
    {
     "data": {
      "text/plain": [
       "País\n",
       "Argentina    46.578104\n",
       "Brasil       50.000150\n",
       "Colômbia     42.169474\n",
       "México       47.519773\n",
       "Name: Preço, dtype: float64"
      ]
     },
     "execution_count": 25,
     "metadata": {},
     "output_type": "execute_result"
    }
   ],
   "source": [
    "std = df.groupby('País')['Preço'].std()\n",
    "mean = df.groupby('País')['Preço'].mean()\n",
    "cv = std/mean * 100\n",
    "cv"
   ]
  }
 ],
 "metadata": {
  "kernelspec": {
   "display_name": ".venv",
   "language": "python",
   "name": "python3"
  },
  "language_info": {
   "codemirror_mode": {
    "name": "ipython",
    "version": 3
   },
   "file_extension": ".py",
   "mimetype": "text/x-python",
   "name": "python",
   "nbconvert_exporter": "python",
   "pygments_lexer": "ipython3",
   "version": "3.13.2"
  }
 },
 "nbformat": 4,
 "nbformat_minor": 2
}

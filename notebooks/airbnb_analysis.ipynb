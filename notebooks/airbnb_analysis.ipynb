{
 "cells": [
  {
   "cell_type": "markdown",
   "metadata": {},
   "source": [
    "# Análise - Airbnb Latam"
   ]
  },
  {
   "cell_type": "markdown",
   "metadata": {},
   "source": [
    "Você trabalha na divisão América Latina do Airbnb e está comparando a operação do Airbnb nos 4 principais países da empresa na região: Brasil, México, Argentina e Colômbia. Um dos objetivos da divisão é aumentar a quantidade de diárias reservadas por turistas estrangeiros nas hospedagens disponíveis na América Latina."
   ]
  },
  {
   "cell_type": "code",
   "execution_count": 1,
   "metadata": {},
   "outputs": [],
   "source": [
    "# Importando as libs\n",
    "import pandas as pd\n",
    "import numpy as np\n",
    "import seaborn as sns\n",
    "import matplotlib.pyplot as plt"
   ]
  },
  {
   "cell_type": "code",
   "execution_count": 2,
   "metadata": {},
   "outputs": [],
   "source": [
    "# Caminho do csv\n",
    "path = '../data/Airbnb.xlsx'"
   ]
  },
  {
   "cell_type": "code",
   "execution_count": 3,
   "metadata": {},
   "outputs": [],
   "source": [
    "# Ler csv\n",
    "df = pd.read_excel(path)"
   ]
  },
  {
   "cell_type": "code",
   "execution_count": 4,
   "metadata": {},
   "outputs": [
    {
     "data": {
      "text/html": [
       "<div>\n",
       "<style scoped>\n",
       "    .dataframe tbody tr th:only-of-type {\n",
       "        vertical-align: middle;\n",
       "    }\n",
       "\n",
       "    .dataframe tbody tr th {\n",
       "        vertical-align: top;\n",
       "    }\n",
       "\n",
       "    .dataframe thead th {\n",
       "        text-align: right;\n",
       "    }\n",
       "</style>\n",
       "<table border=\"1\" class=\"dataframe\">\n",
       "  <thead>\n",
       "    <tr style=\"text-align: right;\">\n",
       "      <th></th>\n",
       "      <th>Nome do local</th>\n",
       "      <th>Localização</th>\n",
       "      <th>País</th>\n",
       "      <th>Tipo de acomodação</th>\n",
       "      <th>Classificação</th>\n",
       "      <th>Comodidades</th>\n",
       "      <th>Políticas de cancelamento</th>\n",
       "      <th>Preço</th>\n",
       "      <th>Número de reservas no ano</th>\n",
       "      <th>Número de Fotos</th>\n",
       "    </tr>\n",
       "  </thead>\n",
       "  <tbody>\n",
       "    <tr>\n",
       "      <th>0</th>\n",
       "      <td>Hostel Montanha</td>\n",
       "      <td>San Andrés</td>\n",
       "      <td>Colômbia</td>\n",
       "      <td>Hostel</td>\n",
       "      <td>5 estrelas</td>\n",
       "      <td>Wi-Fi, café da manhã</td>\n",
       "      <td>7 dias antes</td>\n",
       "      <td>30</td>\n",
       "      <td>11</td>\n",
       "      <td>5</td>\n",
       "    </tr>\n",
       "    <tr>\n",
       "      <th>1</th>\n",
       "      <td>Mirliban</td>\n",
       "      <td>Buenos Aires</td>\n",
       "      <td>Argentina</td>\n",
       "      <td>Apartamento</td>\n",
       "      <td>5 estrelas</td>\n",
       "      <td>Wi-Fi, ar condicionado</td>\n",
       "      <td>72 horas</td>\n",
       "      <td>10</td>\n",
       "      <td>25</td>\n",
       "      <td>7</td>\n",
       "    </tr>\n",
       "    <tr>\n",
       "      <th>2</th>\n",
       "      <td>Estrela Dourada</td>\n",
       "      <td>Guadalajara</td>\n",
       "      <td>México</td>\n",
       "      <td>Hotel</td>\n",
       "      <td>5 estrelas</td>\n",
       "      <td>Piscina, recepção</td>\n",
       "      <td>reembolsável</td>\n",
       "      <td>14</td>\n",
       "      <td>73</td>\n",
       "      <td>12</td>\n",
       "    </tr>\n",
       "    <tr>\n",
       "      <th>3</th>\n",
       "      <td>Mar Azul Beach</td>\n",
       "      <td>Fortaleza</td>\n",
       "      <td>Brasil</td>\n",
       "      <td>Hotel</td>\n",
       "      <td>5 estrelas</td>\n",
       "      <td>Wi-Fi, armários</td>\n",
       "      <td>48 horas antes</td>\n",
       "      <td>35</td>\n",
       "      <td>162</td>\n",
       "      <td>2</td>\n",
       "    </tr>\n",
       "    <tr>\n",
       "      <th>4</th>\n",
       "      <td>Montanha Mágica</td>\n",
       "      <td>Curitiba</td>\n",
       "      <td>Brasil</td>\n",
       "      <td>Quarto</td>\n",
       "      <td>4 estrelas</td>\n",
       "      <td>Piscina, churrasqueira</td>\n",
       "      <td>7 dias antes</td>\n",
       "      <td>48</td>\n",
       "      <td>200</td>\n",
       "      <td>2</td>\n",
       "    </tr>\n",
       "  </tbody>\n",
       "</table>\n",
       "</div>"
      ],
      "text/plain": [
       "     Nome do local   Localização       País Tipo de acomodação Classificação  \\\n",
       "0  Hostel Montanha    San Andrés   Colômbia             Hostel    5 estrelas   \n",
       "1         Mirliban  Buenos Aires  Argentina        Apartamento    5 estrelas   \n",
       "2  Estrela Dourada   Guadalajara     México              Hotel    5 estrelas   \n",
       "3   Mar Azul Beach     Fortaleza     Brasil              Hotel    5 estrelas   \n",
       "4  Montanha Mágica      Curitiba     Brasil             Quarto    4 estrelas   \n",
       "\n",
       "              Comodidades Políticas de cancelamento  Preço  \\\n",
       "0    Wi-Fi, café da manhã              7 dias antes     30   \n",
       "1  Wi-Fi, ar condicionado                  72 horas     10   \n",
       "2       Piscina, recepção              reembolsável     14   \n",
       "3         Wi-Fi, armários            48 horas antes     35   \n",
       "4  Piscina, churrasqueira              7 dias antes     48   \n",
       "\n",
       "   Número de reservas no ano  Número de Fotos  \n",
       "0                         11                5  \n",
       "1                         25                7  \n",
       "2                         73               12  \n",
       "3                        162                2  \n",
       "4                        200                2  "
      ]
     },
     "execution_count": 4,
     "metadata": {},
     "output_type": "execute_result"
    }
   ],
   "source": [
    "# Mostrando o df\n",
    "df.head()"
   ]
  },
  {
   "cell_type": "code",
   "execution_count": 5,
   "metadata": {},
   "outputs": [
    {
     "data": {
      "text/plain": [
       "(49, 10)"
      ]
     },
     "execution_count": 5,
     "metadata": {},
     "output_type": "execute_result"
    }
   ],
   "source": [
    "# Tamanho do df (linhas x colunas)\n",
    "df.shape"
   ]
  },
  {
   "cell_type": "code",
   "execution_count": 6,
   "metadata": {},
   "outputs": [
    {
     "name": "stdout",
     "output_type": "stream",
     "text": [
      "<class 'pandas.core.frame.DataFrame'>\n",
      "RangeIndex: 49 entries, 0 to 48\n",
      "Data columns (total 10 columns):\n",
      " #   Column                     Non-Null Count  Dtype \n",
      "---  ------                     --------------  ----- \n",
      " 0   Nome do local              49 non-null     object\n",
      " 1   Localização                49 non-null     object\n",
      " 2   País                       49 non-null     object\n",
      " 3   Tipo de acomodação         49 non-null     object\n",
      " 4   Classificação              49 non-null     object\n",
      " 5   Comodidades                49 non-null     object\n",
      " 6   Políticas de cancelamento  49 non-null     object\n",
      " 7   Preço                      49 non-null     int64 \n",
      " 8   Número de reservas no ano  49 non-null     int64 \n",
      " 9   Número de Fotos            49 non-null     int64 \n",
      "dtypes: int64(3), object(7)\n",
      "memory usage: 4.0+ KB\n"
     ]
    }
   ],
   "source": [
    "# Informações do df\n",
    "df.info()"
   ]
  },
  {
   "cell_type": "markdown",
   "metadata": {},
   "source": [
    "## 1. Analise as principais métricas aos preços das diárias nos 4 países e compartilhe os 3 principais insights que você teve ao compará-las entre os países."
   ]
  },
  {
   "cell_type": "code",
   "execution_count": 7,
   "metadata": {},
   "outputs": [
    {
     "data": {
      "text/html": [
       "<div>\n",
       "<style scoped>\n",
       "    .dataframe tbody tr th:only-of-type {\n",
       "        vertical-align: middle;\n",
       "    }\n",
       "\n",
       "    .dataframe tbody tr th {\n",
       "        vertical-align: top;\n",
       "    }\n",
       "\n",
       "    .dataframe thead th {\n",
       "        text-align: right;\n",
       "    }\n",
       "</style>\n",
       "<table border=\"1\" class=\"dataframe\">\n",
       "  <thead>\n",
       "    <tr style=\"text-align: right;\">\n",
       "      <th></th>\n",
       "      <th>count</th>\n",
       "      <th>mean</th>\n",
       "      <th>std</th>\n",
       "      <th>min</th>\n",
       "      <th>25%</th>\n",
       "      <th>50%</th>\n",
       "      <th>75%</th>\n",
       "      <th>max</th>\n",
       "    </tr>\n",
       "    <tr>\n",
       "      <th>País</th>\n",
       "      <th></th>\n",
       "      <th></th>\n",
       "      <th></th>\n",
       "      <th></th>\n",
       "      <th></th>\n",
       "      <th></th>\n",
       "      <th></th>\n",
       "      <th></th>\n",
       "    </tr>\n",
       "  </thead>\n",
       "  <tbody>\n",
       "    <tr>\n",
       "      <th>Argentina</th>\n",
       "      <td>10.0</td>\n",
       "      <td>168.100000</td>\n",
       "      <td>78.297793</td>\n",
       "      <td>10.0</td>\n",
       "      <td>137.00</td>\n",
       "      <td>183.5</td>\n",
       "      <td>223.75</td>\n",
       "      <td>272.0</td>\n",
       "    </tr>\n",
       "    <tr>\n",
       "      <th>Brasil</th>\n",
       "      <td>15.0</td>\n",
       "      <td>163.200000</td>\n",
       "      <td>81.600245</td>\n",
       "      <td>35.0</td>\n",
       "      <td>101.50</td>\n",
       "      <td>170.0</td>\n",
       "      <td>218.50</td>\n",
       "      <td>300.0</td>\n",
       "    </tr>\n",
       "    <tr>\n",
       "      <th>Colômbia</th>\n",
       "      <td>14.0</td>\n",
       "      <td>145.928571</td>\n",
       "      <td>61.537311</td>\n",
       "      <td>30.0</td>\n",
       "      <td>114.75</td>\n",
       "      <td>160.0</td>\n",
       "      <td>193.50</td>\n",
       "      <td>249.0</td>\n",
       "    </tr>\n",
       "    <tr>\n",
       "      <th>México</th>\n",
       "      <td>10.0</td>\n",
       "      <td>152.700000</td>\n",
       "      <td>72.562693</td>\n",
       "      <td>14.0</td>\n",
       "      <td>139.00</td>\n",
       "      <td>156.5</td>\n",
       "      <td>183.25</td>\n",
       "      <td>289.0</td>\n",
       "    </tr>\n",
       "  </tbody>\n",
       "</table>\n",
       "</div>"
      ],
      "text/plain": [
       "           count        mean        std   min     25%    50%     75%    max\n",
       "País                                                                       \n",
       "Argentina   10.0  168.100000  78.297793  10.0  137.00  183.5  223.75  272.0\n",
       "Brasil      15.0  163.200000  81.600245  35.0  101.50  170.0  218.50  300.0\n",
       "Colômbia    14.0  145.928571  61.537311  30.0  114.75  160.0  193.50  249.0\n",
       "México      10.0  152.700000  72.562693  14.0  139.00  156.5  183.25  289.0"
      ]
     },
     "execution_count": 7,
     "metadata": {},
     "output_type": "execute_result"
    }
   ],
   "source": [
    "# Verificando as métricas de preço dos 4 países\n",
    "df.groupby('País')['Preço'].describe()"
   ]
  },
  {
   "cell_type": "markdown",
   "metadata": {},
   "source": [
    "A Argentina apresenta o menor número de reservas (10), mas se destaca com:\n",
    "\n",
    "- A maior média e mediana de valores\n",
    "- Um dos menores desvios padrão\n",
    "\n",
    "Isso indica que os preços das reservas são consistentes e pouco dispersos, mostrando homogeneidade nos valores.\n",
    "\n",
    "O Brasil lidera em quantidade de reservas (15), com média de US$163,20. Aqui observamos:\n",
    "\n",
    "- Desvio padrão equivalente à metade da média (alta variabilidade)\n",
    "- Maior reserva individual (US$300,00)\n",
    "\n",
    "Esses dados revelam uma grande dispersão nos preços, oferecendo desde opções acessíveis até valores significativamente altos.\n",
    "\n",
    "A Colômbia aparece como segundo lugar em número de reservas (14) e mostra:\n",
    "\n",
    "- A menor média de preços\n",
    "- O menor desvio padrão (valores muito próximos da média)\n",
    "\n",
    "Maior reserva (US$249,00) ainda abaixo dos outros países.\n",
    "Esta combinação sugere que a Colômbia oferece o melhor custo-benefício, com preços mais homogêneos e acessíveis."
   ]
  },
  {
   "cell_type": "markdown",
   "metadata": {},
   "source": [
    "Podemos também calcular o CV - Coeficiente de Variação, para termos uma ideia melhor da dispersão dos dados."
   ]
  },
  {
   "cell_type": "code",
   "execution_count": 8,
   "metadata": {},
   "outputs": [
    {
     "data": {
      "text/plain": [
       "País\n",
       "Argentina    46.578104\n",
       "Brasil       50.000150\n",
       "Colômbia     42.169474\n",
       "México       47.519773\n",
       "Name: Preço, dtype: float64"
      ]
     },
     "execution_count": 8,
     "metadata": {},
     "output_type": "execute_result"
    }
   ],
   "source": [
    "# Calculando o coeficiente de variação\n",
    "std = df.groupby('País')['Preço'].std()\n",
    "mean = df.groupby('País')['Preço'].mean()\n",
    "cv = std/mean * 100 # CV dado em porcentagem\n",
    "cv"
   ]
  },
  {
   "cell_type": "markdown",
   "metadata": {},
   "source": [
    "Como o CV é uma medida relativa (não atrelada a unidades de medida), ele nos fornece uma visão mais precisa sobre a dispersão dos dados. Observamos que:\n",
    "\n",
    "**1. Brasil:** Confirma-se como o país com dados mais dispersos quando analisamos o CV, reforçando a conclusão anterior sobre sua alta variabilidade.\n",
    "\n",
    "**2. México:** Apresenta um caso interessante - embora tenha o segundo menor desvio padrão absoluto, seu CV revela que os dados possuem uma dispersão relativa significativa. Isso indica que:\n",
    "\n",
    "- A variabilidade dos valores é proporcionalmente alta em relação à sua média\n",
    "- Apesar da aparente estabilidade sugerida pelo desvio padrão absoluto, os preços têm uma distribuição relativamente ampla quando consideramos sua escala\n",
    "\n",
    "**Interpretação complementar:**\n",
    "O caso do México demonstra como o CV pode revelar insights que o desvio padrão sozinho não mostra, especialmente quando comparamos conjuntos de dados com médias diferentes. Enquanto o desvio padrão absoluto sugeriria baixa dispersão, o CV nos alerta que, proporcionalmente, os valores mexicanos têm uma variação considerável."
   ]
  },
  {
   "cell_type": "markdown",
   "metadata": {},
   "source": [
    "## 2. Crie um gráfico com a quantidade de imóveis por intervalos de preço no Brasil e diga qual dos padrões de distribuição estudados mais se assemelha ao gráfico montado."
   ]
  },
  {
   "cell_type": "code",
   "execution_count": 9,
   "metadata": {},
   "outputs": [
    {
     "data": {
      "text/html": [
       "<div>\n",
       "<style scoped>\n",
       "    .dataframe tbody tr th:only-of-type {\n",
       "        vertical-align: middle;\n",
       "    }\n",
       "\n",
       "    .dataframe tbody tr th {\n",
       "        vertical-align: top;\n",
       "    }\n",
       "\n",
       "    .dataframe thead th {\n",
       "        text-align: right;\n",
       "    }\n",
       "</style>\n",
       "<table border=\"1\" class=\"dataframe\">\n",
       "  <thead>\n",
       "    <tr style=\"text-align: right;\">\n",
       "      <th></th>\n",
       "      <th>Nome do local</th>\n",
       "      <th>Localização</th>\n",
       "      <th>País</th>\n",
       "      <th>Tipo de acomodação</th>\n",
       "      <th>Classificação</th>\n",
       "      <th>Comodidades</th>\n",
       "      <th>Políticas de cancelamento</th>\n",
       "      <th>Preço</th>\n",
       "      <th>Número de reservas no ano</th>\n",
       "      <th>Número de Fotos</th>\n",
       "    </tr>\n",
       "  </thead>\n",
       "  <tbody>\n",
       "    <tr>\n",
       "      <th>3</th>\n",
       "      <td>Mar Azul Beach</td>\n",
       "      <td>Fortaleza</td>\n",
       "      <td>Brasil</td>\n",
       "      <td>Hotel</td>\n",
       "      <td>5 estrelas</td>\n",
       "      <td>Wi-Fi, armários</td>\n",
       "      <td>48 horas antes</td>\n",
       "      <td>35</td>\n",
       "      <td>162</td>\n",
       "      <td>2</td>\n",
       "    </tr>\n",
       "    <tr>\n",
       "      <th>4</th>\n",
       "      <td>Montanha Mágica</td>\n",
       "      <td>Curitiba</td>\n",
       "      <td>Brasil</td>\n",
       "      <td>Quarto</td>\n",
       "      <td>4 estrelas</td>\n",
       "      <td>Piscina, churrasqueira</td>\n",
       "      <td>7 dias antes</td>\n",
       "      <td>48</td>\n",
       "      <td>200</td>\n",
       "      <td>2</td>\n",
       "    </tr>\n",
       "    <tr>\n",
       "      <th>5</th>\n",
       "      <td>Oasis Tropical</td>\n",
       "      <td>Salvador</td>\n",
       "      <td>Brasil</td>\n",
       "      <td>Casa</td>\n",
       "      <td>3 estrelas</td>\n",
       "      <td>Estacionamento, água quente</td>\n",
       "      <td>72 horas</td>\n",
       "      <td>65</td>\n",
       "      <td>37</td>\n",
       "      <td>1</td>\n",
       "    </tr>\n",
       "    <tr>\n",
       "      <th>10</th>\n",
       "      <td>Brisa do Mar</td>\n",
       "      <td>Belo Horizonte</td>\n",
       "      <td>Brasil</td>\n",
       "      <td>Sítio</td>\n",
       "      <td>4 estrelas</td>\n",
       "      <td>Piscina, recepção</td>\n",
       "      <td>reembolsável</td>\n",
       "      <td>95</td>\n",
       "      <td>15</td>\n",
       "      <td>8</td>\n",
       "    </tr>\n",
       "    <tr>\n",
       "      <th>14</th>\n",
       "      <td>Refúgio da Natureza</td>\n",
       "      <td>São Paulo</td>\n",
       "      <td>Brasil</td>\n",
       "      <td>Hostel</td>\n",
       "      <td>2 estrelas</td>\n",
       "      <td>Spa, praia</td>\n",
       "      <td>reembolsável</td>\n",
       "      <td>108</td>\n",
       "      <td>122</td>\n",
       "      <td>14</td>\n",
       "    </tr>\n",
       "    <tr>\n",
       "      <th>15</th>\n",
       "      <td>lha dos Coqueiros</td>\n",
       "      <td>Foz do Iguaçú</td>\n",
       "      <td>Brasil</td>\n",
       "      <td>Apartamento</td>\n",
       "      <td>4 estrelas</td>\n",
       "      <td>Wi-Fi, recepção 24 horas</td>\n",
       "      <td>48 horas antes</td>\n",
       "      <td>132</td>\n",
       "      <td>48</td>\n",
       "      <td>13</td>\n",
       "    </tr>\n",
       "    <tr>\n",
       "      <th>22</th>\n",
       "      <td>Cidade dos Sonhos</td>\n",
       "      <td>Salvador</td>\n",
       "      <td>Brasil</td>\n",
       "      <td>Apartamento</td>\n",
       "      <td>2 estrelas</td>\n",
       "      <td>Spa, praia</td>\n",
       "      <td>reembolsável</td>\n",
       "      <td>174</td>\n",
       "      <td>154</td>\n",
       "      <td>1</td>\n",
       "    </tr>\n",
       "    <tr>\n",
       "      <th>29</th>\n",
       "      <td>Villa dos Ventos Beach Resort</td>\n",
       "      <td>Fortaleza</td>\n",
       "      <td>Brasil</td>\n",
       "      <td>Hotel</td>\n",
       "      <td>5 estrelas</td>\n",
       "      <td>Estacionamento, água quente</td>\n",
       "      <td>72 horas</td>\n",
       "      <td>163</td>\n",
       "      <td>165</td>\n",
       "      <td>11</td>\n",
       "    </tr>\n",
       "    <tr>\n",
       "      <th>37</th>\n",
       "      <td>Cidade dos Sonhos do Norte Hotel</td>\n",
       "      <td>São Paulo</td>\n",
       "      <td>Brasil</td>\n",
       "      <td>Hotel</td>\n",
       "      <td>5 estrelas</td>\n",
       "      <td>Estacionamento, água quente</td>\n",
       "      <td>72 horas</td>\n",
       "      <td>207</td>\n",
       "      <td>147</td>\n",
       "      <td>13</td>\n",
       "    </tr>\n",
       "    <tr>\n",
       "      <th>38</th>\n",
       "      <td>Encanto do Mar Hotel &amp; Spa</td>\n",
       "      <td>Manaus</td>\n",
       "      <td>Brasil</td>\n",
       "      <td>Quarto</td>\n",
       "      <td>2 estrelas</td>\n",
       "      <td>Spa, praia</td>\n",
       "      <td>reembolsável</td>\n",
       "      <td>230</td>\n",
       "      <td>23</td>\n",
       "      <td>13</td>\n",
       "    </tr>\n",
       "    <tr>\n",
       "      <th>40</th>\n",
       "      <td>Villa do Sol Brilhante</td>\n",
       "      <td>Manaus</td>\n",
       "      <td>Brasil</td>\n",
       "      <td>Casa</td>\n",
       "      <td>5 estrelas</td>\n",
       "      <td>Wi-Fi, café da manhã</td>\n",
       "      <td>7 dias antes</td>\n",
       "      <td>203</td>\n",
       "      <td>46</td>\n",
       "      <td>2</td>\n",
       "    </tr>\n",
       "    <tr>\n",
       "      <th>42</th>\n",
       "      <td>Oasis do Oásis Hotel</td>\n",
       "      <td>Foz do Iguaçú</td>\n",
       "      <td>Brasil</td>\n",
       "      <td>Hotel</td>\n",
       "      <td>1 estrela</td>\n",
       "      <td>Piscina, recepção</td>\n",
       "      <td>reembolsável</td>\n",
       "      <td>260</td>\n",
       "      <td>114</td>\n",
       "      <td>2</td>\n",
       "    </tr>\n",
       "    <tr>\n",
       "      <th>44</th>\n",
       "      <td>Château Encantado Hostel</td>\n",
       "      <td>Curitiba</td>\n",
       "      <td>Brasil</td>\n",
       "      <td>Hostel</td>\n",
       "      <td>4 estrelas</td>\n",
       "      <td>Piscina, churrasqueira</td>\n",
       "      <td>7 dias antes</td>\n",
       "      <td>258</td>\n",
       "      <td>6</td>\n",
       "      <td>9</td>\n",
       "    </tr>\n",
       "    <tr>\n",
       "      <th>46</th>\n",
       "      <td>Villa Romântica do Lago</td>\n",
       "      <td>São Paulo</td>\n",
       "      <td>Brasil</td>\n",
       "      <td>Quarto</td>\n",
       "      <td>5 estrelas</td>\n",
       "      <td>Spa, praia</td>\n",
       "      <td>reembolsável</td>\n",
       "      <td>300</td>\n",
       "      <td>149</td>\n",
       "      <td>15</td>\n",
       "    </tr>\n",
       "    <tr>\n",
       "      <th>48</th>\n",
       "      <td>Hotel do Vale da Serenidade</td>\n",
       "      <td>Belo Horizonte</td>\n",
       "      <td>Brasil</td>\n",
       "      <td>Hotel</td>\n",
       "      <td>4 estrelas</td>\n",
       "      <td>Wi-Fi, café da manhã</td>\n",
       "      <td>7 dias antes</td>\n",
       "      <td>170</td>\n",
       "      <td>61</td>\n",
       "      <td>3</td>\n",
       "    </tr>\n",
       "  </tbody>\n",
       "</table>\n",
       "</div>"
      ],
      "text/plain": [
       "                       Nome do local     Localização    País  \\\n",
       "3                     Mar Azul Beach       Fortaleza  Brasil   \n",
       "4                    Montanha Mágica        Curitiba  Brasil   \n",
       "5                     Oasis Tropical        Salvador  Brasil   \n",
       "10                      Brisa do Mar  Belo Horizonte  Brasil   \n",
       "14               Refúgio da Natureza       São Paulo  Brasil   \n",
       "15                 lha dos Coqueiros   Foz do Iguaçú  Brasil   \n",
       "22                 Cidade dos Sonhos        Salvador  Brasil   \n",
       "29     Villa dos Ventos Beach Resort       Fortaleza  Brasil   \n",
       "37  Cidade dos Sonhos do Norte Hotel       São Paulo  Brasil   \n",
       "38        Encanto do Mar Hotel & Spa          Manaus  Brasil   \n",
       "40            Villa do Sol Brilhante          Manaus  Brasil   \n",
       "42              Oasis do Oásis Hotel   Foz do Iguaçú  Brasil   \n",
       "44          Château Encantado Hostel        Curitiba  Brasil   \n",
       "46           Villa Romântica do Lago       São Paulo  Brasil   \n",
       "48       Hotel do Vale da Serenidade  Belo Horizonte  Brasil   \n",
       "\n",
       "   Tipo de acomodação Classificação                  Comodidades  \\\n",
       "3               Hotel    5 estrelas              Wi-Fi, armários   \n",
       "4              Quarto    4 estrelas       Piscina, churrasqueira   \n",
       "5                Casa    3 estrelas  Estacionamento, água quente   \n",
       "10              Sítio    4 estrelas            Piscina, recepção   \n",
       "14             Hostel    2 estrelas                   Spa, praia   \n",
       "15        Apartamento    4 estrelas     Wi-Fi, recepção 24 horas   \n",
       "22        Apartamento    2 estrelas                   Spa, praia   \n",
       "29              Hotel    5 estrelas  Estacionamento, água quente   \n",
       "37              Hotel    5 estrelas  Estacionamento, água quente   \n",
       "38             Quarto    2 estrelas                   Spa, praia   \n",
       "40               Casa    5 estrelas         Wi-Fi, café da manhã   \n",
       "42              Hotel     1 estrela            Piscina, recepção   \n",
       "44             Hostel    4 estrelas       Piscina, churrasqueira   \n",
       "46             Quarto    5 estrelas                   Spa, praia   \n",
       "48              Hotel    4 estrelas         Wi-Fi, café da manhã   \n",
       "\n",
       "   Políticas de cancelamento  Preço  Número de reservas no ano  \\\n",
       "3             48 horas antes     35                        162   \n",
       "4               7 dias antes     48                        200   \n",
       "5                   72 horas     65                         37   \n",
       "10              reembolsável     95                         15   \n",
       "14              reembolsável    108                        122   \n",
       "15            48 horas antes    132                         48   \n",
       "22              reembolsável    174                        154   \n",
       "29                  72 horas    163                        165   \n",
       "37                  72 horas    207                        147   \n",
       "38              reembolsável    230                         23   \n",
       "40              7 dias antes    203                         46   \n",
       "42              reembolsável    260                        114   \n",
       "44              7 dias antes    258                          6   \n",
       "46              reembolsável    300                        149   \n",
       "48              7 dias antes    170                         61   \n",
       "\n",
       "    Número de Fotos  \n",
       "3                 2  \n",
       "4                 2  \n",
       "5                 1  \n",
       "10                8  \n",
       "14               14  \n",
       "15               13  \n",
       "22                1  \n",
       "29               11  \n",
       "37               13  \n",
       "38               13  \n",
       "40                2  \n",
       "42                2  \n",
       "44                9  \n",
       "46               15  \n",
       "48                3  "
      ]
     },
     "execution_count": 9,
     "metadata": {},
     "output_type": "execute_result"
    }
   ],
   "source": [
    "df_brasil = df[df['País'] == 'Brasil']\n",
    "df_brasil"
   ]
  },
  {
   "cell_type": "code",
   "execution_count": 10,
   "metadata": {},
   "outputs": [
    {
     "data": {
      "image/png": "[encoded data removed]",
      "text/plain": [
       "<Figure size 1000x600 with 1 Axes>"
      ]
     },
     "metadata": {},
     "output_type": "display_data"
    }
   ],
   "source": [
    "# Criando a figura e os eixos\n",
    "fig, ax = plt.subplots(figsize=(10, 6))\n",
    "\n",
    "# Plotando o histograma no eixo `ax`\n",
    "sns.histplot(df_brasil['Preço'], bins=range(0, 400, 50), ax=ax)\n",
    "\n",
    "# Personalizando os rótulos\n",
    "ax.set_title('Quantidade de imóveis por intervalos de preço', fontsize=14)\n",
    "ax.set_xlabel('Preço ($)', fontsize=12)\n",
    "ax.set_ylabel('Acomodações', fontsize=12)\n",
    "\n",
    "# Ajustando layout para evitar cortes\n",
    "plt.tight_layout()\n",
    "\n",
    "# Exibindo o gráfico\n",
    "plt.show()"
   ]
  },
  {
   "cell_type": "code",
   "execution_count": 11,
   "metadata": {},
   "outputs": [
    {
     "name": "stdout",
     "output_type": "stream",
     "text": [
      "Assimetria: -0.05\n"
     ]
    }
   ],
   "source": [
    "skew = df_brasil['Preço'].skew()\n",
    "print(f'Assimetria: {skew:.2f}')"
   ]
  },
  {
   "cell_type": "markdown",
   "metadata": {},
   "source": [
    "Para recordarmos:\n",
    "- Skew = 0, distribuição simétrica\n",
    "- Skew > 0, distribuição assimétrica positiva (à direita)\n",
    "- Skew < 0, distribuição assimétrica negativa (à esquerda)\n",
    "\n",
    "Dizemos que os dados são aproximadamente normais se -1 < Skew < 1."
   ]
  },
  {
   "cell_type": "markdown",
   "metadata": {},
   "source": [
    "Observando o gráfico e a skew (assimetria), podemos ver que distribuição dos Preços são aproximadamente normais."
   ]
  },
  {
   "cell_type": "markdown",
   "metadata": {},
   "source": [
    "## 3. Monte o funil de conversão de um visitante para reservar uma hospedagem em cada um dos 4 países, destacando os percentuais em cada etapa e depois responder às seguintes perguntas:\n",
    "- Qual país possui a maior conversão geral, da home à conclusão da reserva, durante o ano de 2022?\n",
    "- Em qual etapa do funil existe maior perda de visitantes em cada um dos países?"
   ]
  },
  {
   "cell_type": "code",
   "execution_count": 12,
   "metadata": {},
   "outputs": [],
   "source": [
    "df_br = pd.read_excel(path, sheet_name=\"Fluxo de reserva de imóvel - Br\", nrows=24)\n",
    "pd.set_option(\"display.float_format\", \"{:.0f}\".format)"
   ]
  },
  {
   "cell_type": "code",
   "execution_count": 13,
   "metadata": {},
   "outputs": [
    {
     "data": {
      "text/html": [
       "<div>\n",
       "<style scoped>\n",
       "    .dataframe tbody tr th:only-of-type {\n",
       "        vertical-align: middle;\n",
       "    }\n",
       "\n",
       "    .dataframe tbody tr th {\n",
       "        vertical-align: top;\n",
       "    }\n",
       "\n",
       "    .dataframe thead th {\n",
       "        text-align: right;\n",
       "    }\n",
       "</style>\n",
       "<table border=\"1\" class=\"dataframe\">\n",
       "  <thead>\n",
       "    <tr style=\"text-align: right;\">\n",
       "      <th></th>\n",
       "      <th>Mês</th>\n",
       "      <th>Home</th>\n",
       "      <th>Resultado de busca</th>\n",
       "      <th>Detalhes do imóvel</th>\n",
       "      <th>Check-out</th>\n",
       "      <th>Conclusão da reserva</th>\n",
       "    </tr>\n",
       "  </thead>\n",
       "  <tbody>\n",
       "    <tr>\n",
       "      <th>0</th>\n",
       "      <td>2021-01-01</td>\n",
       "      <td>14583827</td>\n",
       "      <td>11521224</td>\n",
       "      <td>10023465</td>\n",
       "      <td>7617833</td>\n",
       "      <td>5256305</td>\n",
       "    </tr>\n",
       "    <tr>\n",
       "      <th>1</th>\n",
       "      <td>2021-02-01</td>\n",
       "      <td>14574634</td>\n",
       "      <td>11513961</td>\n",
       "      <td>10017146</td>\n",
       "      <td>7613031</td>\n",
       "      <td>5252991</td>\n",
       "    </tr>\n",
       "    <tr>\n",
       "      <th>2</th>\n",
       "      <td>2021-03-01</td>\n",
       "      <td>15303366</td>\n",
       "      <td>12089659</td>\n",
       "      <td>10518004</td>\n",
       "      <td>7993683</td>\n",
       "      <td>5515641</td>\n",
       "    </tr>\n",
       "    <tr>\n",
       "      <th>3</th>\n",
       "      <td>2021-04-01</td>\n",
       "      <td>16068534</td>\n",
       "      <td>12694142</td>\n",
       "      <td>11043904</td>\n",
       "      <td>8393367</td>\n",
       "      <td>5791423</td>\n",
       "    </tr>\n",
       "    <tr>\n",
       "      <th>4</th>\n",
       "      <td>2021-05-01</td>\n",
       "      <td>16871961</td>\n",
       "      <td>13328849</td>\n",
       "      <td>11596099</td>\n",
       "      <td>8813035</td>\n",
       "      <td>6080994</td>\n",
       "    </tr>\n",
       "  </tbody>\n",
       "</table>\n",
       "</div>"
      ],
      "text/plain": [
       "         Mês     Home  Resultado de busca  Detalhes do imóvel  Check-out  \\\n",
       "0 2021-01-01 14583827            11521224            10023465    7617833   \n",
       "1 2021-02-01 14574634            11513961            10017146    7613031   \n",
       "2 2021-03-01 15303366            12089659            10518004    7993683   \n",
       "3 2021-04-01 16068534            12694142            11043904    8393367   \n",
       "4 2021-05-01 16871961            13328849            11596099    8813035   \n",
       "\n",
       "   Conclusão da reserva  \n",
       "0               5256305  \n",
       "1               5252991  \n",
       "2               5515641  \n",
       "3               5791423  \n",
       "4               6080994  "
      ]
     },
     "execution_count": 13,
     "metadata": {},
     "output_type": "execute_result"
    }
   ],
   "source": [
    "df_br.head()"
   ]
  },
  {
   "cell_type": "markdown",
   "metadata": {},
   "source": [
    "### Brasil"
   ]
  },
  {
   "cell_type": "markdown",
   "metadata": {},
   "source": [
    "Funil 1: Da etapa Home para Resultado de Busca"
   ]
  },
  {
   "cell_type": "code",
   "execution_count": 14,
   "metadata": {},
   "outputs": [
    {
     "data": {
      "text/plain": [
       "np.float64(0.79)"
      ]
     },
     "execution_count": 14,
     "metadata": {},
     "output_type": "execute_result"
    }
   ],
   "source": [
    "(df_br['Resultado de busca'].sum()/df_br['Home'].sum()).round(2)"
   ]
  },
  {
   "cell_type": "markdown",
   "metadata": {},
   "source": [
    "Funil 2: Da etapa Resultado de busca para Detalhes do imóvel"
   ]
  },
  {
   "cell_type": "code",
   "execution_count": 15,
   "metadata": {},
   "outputs": [
    {
     "data": {
      "text/plain": [
       "np.float64(0.87)"
      ]
     },
     "execution_count": 15,
     "metadata": {},
     "output_type": "execute_result"
    }
   ],
   "source": [
    "(df_br['Detalhes do imóvel'].sum()/df_br['Resultado de busca'].sum()).round(2)"
   ]
  },
  {
   "cell_type": "markdown",
   "metadata": {},
   "source": [
    "Funil 3: Da etapa Detalhes do imóvel para Check-out"
   ]
  },
  {
   "cell_type": "code",
   "execution_count": 16,
   "metadata": {},
   "outputs": [
    {
     "data": {
      "text/plain": [
       "np.float64(0.76)"
      ]
     },
     "execution_count": 16,
     "metadata": {},
     "output_type": "execute_result"
    }
   ],
   "source": [
    "(df_br['Check-out'].sum()/df_br['Detalhes do imóvel'].sum()).round(2)"
   ]
  },
  {
   "cell_type": "markdown",
   "metadata": {},
   "source": [
    "Funil 4: Da etapa Check-out para Conclusão da reserva"
   ]
  },
  {
   "cell_type": "code",
   "execution_count": 17,
   "metadata": {},
   "outputs": [
    {
     "data": {
      "text/plain": [
       "np.float64(0.69)"
      ]
     },
     "execution_count": 17,
     "metadata": {},
     "output_type": "execute_result"
    }
   ],
   "source": [
    "(df_br['Conclusão da reserva'].sum()/df_br['Check-out'].sum()).round(2)"
   ]
  },
  {
   "cell_type": "markdown",
   "metadata": {},
   "source": [
    "Vamos calcular a queda percentual entre cada etapa:\n",
    "\n",
    "1. Da etapa 1 para etapa 2: (0.79 - 0.87)/0.79 = -0.1013 ou -10.13%\n",
    "2. Da etapa 2 para etapa 3: (0.87 - 0.76)/0.87 = 0.1264 ou 12.64%\n",
    "3. Da etapa 3 para etapa 4: (0.76 - 0.69)/0.76 = 0.0921 ou 9.21%\n",
    "\n",
    "Por fim, a conversão geral:\n",
    "\n",
    "Conversão geral = Etapa 1 × Etapa 2 × Etapa 3 × Etapa 4  \n",
    "Conversão geral = 0.79 × 0.87 × 0.76 × 0.69  \n",
    "Conversão geral ≈ 0.36\n",
    "\n",
    "Conclui-se que:\n",
    "\n",
    "- No Brasil, a maior perda de visitantes ocorre \"Da etapa Detalhes do Imóvel para Check-out\"\n",
    "- A conversão geral no Brasil é de 36%."
   ]
  },
  {
   "cell_type": "markdown",
   "metadata": {},
   "source": [
    "### Colômbia"
   ]
  },
  {
   "cell_type": "code",
   "execution_count": 18,
   "metadata": {},
   "outputs": [],
   "source": [
    "df_colombia = pd.read_excel(path, sheet_name=\"Fluxo de reserva de imóvel - Br\", skiprows=30, nrows=28)\n",
    "pd.set_option(\"display.float_format\", \"{:.0f}\".format)"
   ]
  },
  {
   "cell_type": "code",
   "execution_count": 19,
   "metadata": {},
   "outputs": [
    {
     "data": {
      "text/html": [
       "<div>\n",
       "<style scoped>\n",
       "    .dataframe tbody tr th:only-of-type {\n",
       "        vertical-align: middle;\n",
       "    }\n",
       "\n",
       "    .dataframe tbody tr th {\n",
       "        vertical-align: top;\n",
       "    }\n",
       "\n",
       "    .dataframe thead th {\n",
       "        text-align: right;\n",
       "    }\n",
       "</style>\n",
       "<table border=\"1\" class=\"dataframe\">\n",
       "  <thead>\n",
       "    <tr style=\"text-align: right;\">\n",
       "      <th></th>\n",
       "      <th>Mês</th>\n",
       "      <th>Home</th>\n",
       "      <th>Resultado de busca</th>\n",
       "      <th>Detalhes do imóvel</th>\n",
       "      <th>Check-out</th>\n",
       "      <th>Conclusão da reserva</th>\n",
       "    </tr>\n",
       "  </thead>\n",
       "  <tbody>\n",
       "    <tr>\n",
       "      <th>0</th>\n",
       "      <td>2021-01-01</td>\n",
       "      <td>11566484</td>\n",
       "      <td>9368852</td>\n",
       "      <td>5808688</td>\n",
       "      <td>4066082</td>\n",
       "      <td>1463789</td>\n",
       "    </tr>\n",
       "    <tr>\n",
       "      <th>1</th>\n",
       "      <td>2021-02-01</td>\n",
       "      <td>11559193</td>\n",
       "      <td>9362946</td>\n",
       "      <td>5805027</td>\n",
       "      <td>4063519</td>\n",
       "      <td>1462867</td>\n",
       "    </tr>\n",
       "    <tr>\n",
       "      <th>2</th>\n",
       "      <td>2021-03-01</td>\n",
       "      <td>12137152</td>\n",
       "      <td>9831093</td>\n",
       "      <td>6095278</td>\n",
       "      <td>4266695</td>\n",
       "      <td>1536010</td>\n",
       "    </tr>\n",
       "    <tr>\n",
       "      <th>3</th>\n",
       "      <td>2021-04-01</td>\n",
       "      <td>12744010</td>\n",
       "      <td>10322648</td>\n",
       "      <td>6400042</td>\n",
       "      <td>4480029</td>\n",
       "      <td>1612811</td>\n",
       "    </tr>\n",
       "    <tr>\n",
       "      <th>4</th>\n",
       "      <td>2021-05-01</td>\n",
       "      <td>13381211</td>\n",
       "      <td>10838781</td>\n",
       "      <td>6720044</td>\n",
       "      <td>4704031</td>\n",
       "      <td>1693451</td>\n",
       "    </tr>\n",
       "  </tbody>\n",
       "</table>\n",
       "</div>"
      ],
      "text/plain": [
       "         Mês     Home  Resultado de busca  Detalhes do imóvel  Check-out  \\\n",
       "0 2021-01-01 11566484             9368852             5808688    4066082   \n",
       "1 2021-02-01 11559193             9362946             5805027    4063519   \n",
       "2 2021-03-01 12137152             9831093             6095278    4266695   \n",
       "3 2021-04-01 12744010            10322648             6400042    4480029   \n",
       "4 2021-05-01 13381211            10838781             6720044    4704031   \n",
       "\n",
       "   Conclusão da reserva  \n",
       "0               1463789  \n",
       "1               1462867  \n",
       "2               1536010  \n",
       "3               1612811  \n",
       "4               1693451  "
      ]
     },
     "execution_count": 19,
     "metadata": {},
     "output_type": "execute_result"
    }
   ],
   "source": [
    "df_colombia.head()"
   ]
  },
  {
   "cell_type": "markdown",
   "metadata": {},
   "source": [
    "Funil 1: Da etapa Home para Resultado de Busca"
   ]
  },
  {
   "cell_type": "code",
   "execution_count": 20,
   "metadata": {},
   "outputs": [
    {
     "data": {
      "text/plain": [
       "np.float64(0.81)"
      ]
     },
     "execution_count": 20,
     "metadata": {},
     "output_type": "execute_result"
    }
   ],
   "source": [
    "(df_colombia['Resultado de busca'].sum()/df_colombia['Home'].sum()).round(2)"
   ]
  },
  {
   "cell_type": "markdown",
   "metadata": {},
   "source": [
    "Funil 2: Da etapa Resultado de busca para Detalhes do imóvel"
   ]
  },
  {
   "cell_type": "code",
   "execution_count": 21,
   "metadata": {},
   "outputs": [
    {
     "data": {
      "text/plain": [
       "np.float64(0.62)"
      ]
     },
     "execution_count": 21,
     "metadata": {},
     "output_type": "execute_result"
    }
   ],
   "source": [
    "(df_colombia['Detalhes do imóvel'].sum()/df_colombia['Resultado de busca'].sum()).round(2)"
   ]
  },
  {
   "cell_type": "markdown",
   "metadata": {},
   "source": [
    "Funil 3: Da etapa Detalhes do imóvel para Check-out"
   ]
  },
  {
   "cell_type": "code",
   "execution_count": 22,
   "metadata": {},
   "outputs": [
    {
     "data": {
      "text/plain": [
       "np.float64(0.7)"
      ]
     },
     "execution_count": 22,
     "metadata": {},
     "output_type": "execute_result"
    }
   ],
   "source": [
    "(df_colombia['Check-out'].sum()/df_colombia['Detalhes do imóvel'].sum()).round(2)"
   ]
  },
  {
   "cell_type": "markdown",
   "metadata": {},
   "source": [
    "Funil 4: Da etapa Check-out para Conclusão da reserva"
   ]
  },
  {
   "cell_type": "code",
   "execution_count": 23,
   "metadata": {},
   "outputs": [
    {
     "data": {
      "text/plain": [
       "np.float64(0.36)"
      ]
     },
     "execution_count": 23,
     "metadata": {},
     "output_type": "execute_result"
    }
   ],
   "source": [
    "(df_colombia['Conclusão da reserva'].sum()/df_colombia['Check-out'].sum()).round(2)"
   ]
  },
  {
   "cell_type": "markdown",
   "metadata": {},
   "source": [
    "Vamos calcular a queda percentual entre cada etapa:\n",
    "\n",
    "1. Da etapa 1 para etapa 2: (0.81 - 0.62)/0.81 = 0.23 ou 23%\n",
    "2. Da etapa 2 para etapa 3: (0.62 - 0.7)/0.62 = -0.129 ou -12.90%\n",
    "3. Da etapa 3 para etapa 4: (0.7 - 0.36)/0.7 = 0.48 ou 48%\n",
    "\n",
    "Por fim, a conversão geral:\n",
    "\n",
    "Conversão geral = Etapa 1 × Etapa 2 × Etapa 3 × Etapa 4  \n",
    "Conversão geral = 0.81 × 0.62 × 0.7 × 0.36  \n",
    "Conversão geral ≈ 0.12\n",
    "\n",
    "Conclui-se que:\n",
    "\n",
    "- Na Colômbia, a maior perda de visitantes ocorre \"Da etapa Check-out para Conclusão da reserva\"\n",
    "- A conversão geral na Colômbia é de 12%."
   ]
  },
  {
   "cell_type": "markdown",
   "metadata": {},
   "source": [
    "### México"
   ]
  },
  {
   "cell_type": "code",
   "execution_count": 24,
   "metadata": {},
   "outputs": [],
   "source": [
    "df_mexico = pd.read_excel(path, sheet_name=\"Fluxo de reserva de imóvel - Br\", skiprows=60, nrows=25)\n",
    "pd.set_option(\"display.float_format\", \"{:.0f}\".format)"
   ]
  },
  {
   "cell_type": "code",
   "execution_count": 25,
   "metadata": {},
   "outputs": [
    {
     "data": {
      "text/html": [
       "<div>\n",
       "<style scoped>\n",
       "    .dataframe tbody tr th:only-of-type {\n",
       "        vertical-align: middle;\n",
       "    }\n",
       "\n",
       "    .dataframe tbody tr th {\n",
       "        vertical-align: top;\n",
       "    }\n",
       "\n",
       "    .dataframe thead th {\n",
       "        text-align: right;\n",
       "    }\n",
       "</style>\n",
       "<table border=\"1\" class=\"dataframe\">\n",
       "  <thead>\n",
       "    <tr style=\"text-align: right;\">\n",
       "      <th></th>\n",
       "      <th>Mês</th>\n",
       "      <th>Home</th>\n",
       "      <th>Resultado de busca</th>\n",
       "      <th>Detalhes do imóvel</th>\n",
       "      <th>Check-out</th>\n",
       "      <th>Conclusão da reserva</th>\n",
       "    </tr>\n",
       "  </thead>\n",
       "  <tbody>\n",
       "    <tr>\n",
       "      <th>0</th>\n",
       "      <td>2021-01-01</td>\n",
       "      <td>12371109</td>\n",
       "      <td>7546376</td>\n",
       "      <td>6640811</td>\n",
       "      <td>3918079</td>\n",
       "      <td>3056101</td>\n",
       "    </tr>\n",
       "    <tr>\n",
       "      <th>1</th>\n",
       "      <td>2021-02-01</td>\n",
       "      <td>12363311</td>\n",
       "      <td>7541619</td>\n",
       "      <td>6636625</td>\n",
       "      <td>3915609</td>\n",
       "      <td>3054175</td>\n",
       "    </tr>\n",
       "    <tr>\n",
       "      <th>2</th>\n",
       "      <td>2021-03-01</td>\n",
       "      <td>12981476</td>\n",
       "      <td>7918700</td>\n",
       "      <td>6968456</td>\n",
       "      <td>4111389</td>\n",
       "      <td>3206884</td>\n",
       "    </tr>\n",
       "    <tr>\n",
       "      <th>3</th>\n",
       "      <td>2021-04-01</td>\n",
       "      <td>13630550</td>\n",
       "      <td>8314635</td>\n",
       "      <td>7316879</td>\n",
       "      <td>4316959</td>\n",
       "      <td>3367228</td>\n",
       "    </tr>\n",
       "    <tr>\n",
       "      <th>4</th>\n",
       "      <td>2021-05-01</td>\n",
       "      <td>14312077</td>\n",
       "      <td>8730367</td>\n",
       "      <td>7682723</td>\n",
       "      <td>4532807</td>\n",
       "      <td>3535589</td>\n",
       "    </tr>\n",
       "  </tbody>\n",
       "</table>\n",
       "</div>"
      ],
      "text/plain": [
       "         Mês     Home  Resultado de busca  Detalhes do imóvel  Check-out  \\\n",
       "0 2021-01-01 12371109             7546376             6640811    3918079   \n",
       "1 2021-02-01 12363311             7541619             6636625    3915609   \n",
       "2 2021-03-01 12981476             7918700             6968456    4111389   \n",
       "3 2021-04-01 13630550             8314635             7316879    4316959   \n",
       "4 2021-05-01 14312077             8730367             7682723    4532807   \n",
       "\n",
       "   Conclusão da reserva  \n",
       "0               3056101  \n",
       "1               3054175  \n",
       "2               3206884  \n",
       "3               3367228  \n",
       "4               3535589  "
      ]
     },
     "execution_count": 25,
     "metadata": {},
     "output_type": "execute_result"
    }
   ],
   "source": [
    "df_mexico.head()"
   ]
  },
  {
   "cell_type": "markdown",
   "metadata": {},
   "source": [
    "Funil 1: Da etapa Home para Resultado de Busca"
   ]
  },
  {
   "cell_type": "code",
   "execution_count": 26,
   "metadata": {},
   "outputs": [
    {
     "data": {
      "text/plain": [
       "np.float64(0.61)"
      ]
     },
     "execution_count": 26,
     "metadata": {},
     "output_type": "execute_result"
    }
   ],
   "source": [
    "(df_mexico['Resultado de busca'].sum()/df_mexico['Home'].sum()).round(2)"
   ]
  },
  {
   "cell_type": "markdown",
   "metadata": {},
   "source": [
    "Funil 2: Da etapa Resultado de busca para Detalhes do imóvel"
   ]
  },
  {
   "cell_type": "code",
   "execution_count": 27,
   "metadata": {},
   "outputs": [
    {
     "data": {
      "text/plain": [
       "np.float64(0.88)"
      ]
     },
     "execution_count": 27,
     "metadata": {},
     "output_type": "execute_result"
    }
   ],
   "source": [
    "(df_mexico['Detalhes do imóvel'].sum()/df_mexico['Resultado de busca'].sum()).round(2)"
   ]
  },
  {
   "cell_type": "markdown",
   "metadata": {},
   "source": [
    "Funil 3: Da etapa Detalhes do imóvel para Check-out"
   ]
  },
  {
   "cell_type": "code",
   "execution_count": 28,
   "metadata": {},
   "outputs": [
    {
     "data": {
      "text/plain": [
       "np.float64(0.59)"
      ]
     },
     "execution_count": 28,
     "metadata": {},
     "output_type": "execute_result"
    }
   ],
   "source": [
    "(df_mexico['Check-out'].sum()/df_mexico['Detalhes do imóvel'].sum()).round(2)"
   ]
  },
  {
   "cell_type": "markdown",
   "metadata": {},
   "source": [
    "Funil 4: Da etapa Check-out para Conclusão da reserva"
   ]
  },
  {
   "cell_type": "code",
   "execution_count": 29,
   "metadata": {},
   "outputs": [
    {
     "data": {
      "text/plain": [
       "np.float64(0.78)"
      ]
     },
     "execution_count": 29,
     "metadata": {},
     "output_type": "execute_result"
    }
   ],
   "source": [
    "(df_mexico['Conclusão da reserva'].sum()/df_mexico['Check-out'].sum()).round(2)"
   ]
  },
  {
   "cell_type": "markdown",
   "metadata": {},
   "source": [
    "Vamos calcular a queda percentual entre cada etapa:\n",
    "\n",
    "1. Da etapa 1 para etapa 2: (0.61 - 0.88)/0.61 = -0.44 ou -44%\n",
    "2. Da etapa 2 para etapa 3: (0.88 - 0.59)/0.88 = 0.32 ou 32%\n",
    "3. Da etapa 3 para etapa 4: (0.59 - 0.78)/0.59 = -0.32 ou -32%\n",
    "\n",
    "Por fim, a conversão geral:\n",
    "\n",
    "Conversão geral = Etapa 1 × Etapa 2 × Etapa 3 × Etapa 4  \n",
    "Conversão geral = 0.61 × 0.88 × 0.59 × 0.78 \n",
    "Conversão geral ≈ 0.24\n",
    "\n",
    "Conclui-se que:\n",
    "\n",
    "- No México, a maior perda de visitantes ocorre \"Da etapa Detalhes do Imóvel para Check-out\"\n",
    "- A conversão geral no México é de 24%."
   ]
  },
  {
   "cell_type": "markdown",
   "metadata": {},
   "source": [
    "### Argentina"
   ]
  },
  {
   "cell_type": "code",
   "execution_count": 30,
   "metadata": {},
   "outputs": [],
   "source": [
    "df_argentina = pd.read_excel(path, sheet_name=\"Fluxo de reserva de imóvel - Br\", skiprows=89, nrows=25)\n",
    "pd.set_option(\"display.float_format\", \"{:.0f}\".format)"
   ]
  },
  {
   "cell_type": "code",
   "execution_count": 31,
   "metadata": {},
   "outputs": [
    {
     "data": {
      "text/html": [
       "<div>\n",
       "<style scoped>\n",
       "    .dataframe tbody tr th:only-of-type {\n",
       "        vertical-align: middle;\n",
       "    }\n",
       "\n",
       "    .dataframe tbody tr th {\n",
       "        vertical-align: top;\n",
       "    }\n",
       "\n",
       "    .dataframe thead th {\n",
       "        text-align: right;\n",
       "    }\n",
       "</style>\n",
       "<table border=\"1\" class=\"dataframe\">\n",
       "  <thead>\n",
       "    <tr style=\"text-align: right;\">\n",
       "      <th></th>\n",
       "      <th>Mês</th>\n",
       "      <th>Home</th>\n",
       "      <th>Resultado de busca</th>\n",
       "      <th>Detalhes do imóvel</th>\n",
       "      <th>Check-out</th>\n",
       "      <th>Conclusão da reserva</th>\n",
       "    </tr>\n",
       "  </thead>\n",
       "  <tbody>\n",
       "    <tr>\n",
       "      <th>0</th>\n",
       "      <td>2021-01-01</td>\n",
       "      <td>10057812</td>\n",
       "      <td>7543359</td>\n",
       "      <td>4903183</td>\n",
       "      <td>2647719</td>\n",
       "      <td>1191474</td>\n",
       "    </tr>\n",
       "    <tr>\n",
       "      <th>1</th>\n",
       "      <td>2021-02-01</td>\n",
       "      <td>10051472</td>\n",
       "      <td>7538604</td>\n",
       "      <td>4900093</td>\n",
       "      <td>2646050</td>\n",
       "      <td>1190723</td>\n",
       "    </tr>\n",
       "    <tr>\n",
       "      <th>2</th>\n",
       "      <td>2021-03-01</td>\n",
       "      <td>10554046</td>\n",
       "      <td>7915534</td>\n",
       "      <td>5145097</td>\n",
       "      <td>2778353</td>\n",
       "      <td>1250259</td>\n",
       "    </tr>\n",
       "    <tr>\n",
       "      <th>3</th>\n",
       "      <td>2021-04-01</td>\n",
       "      <td>11081748</td>\n",
       "      <td>8311311</td>\n",
       "      <td>5402352</td>\n",
       "      <td>2917270</td>\n",
       "      <td>1312772</td>\n",
       "    </tr>\n",
       "    <tr>\n",
       "      <th>4</th>\n",
       "      <td>2021-05-01</td>\n",
       "      <td>11635835</td>\n",
       "      <td>8726876</td>\n",
       "      <td>5672470</td>\n",
       "      <td>3063134</td>\n",
       "      <td>1378410</td>\n",
       "    </tr>\n",
       "  </tbody>\n",
       "</table>\n",
       "</div>"
      ],
      "text/plain": [
       "         Mês     Home  Resultado de busca  Detalhes do imóvel  Check-out  \\\n",
       "0 2021-01-01 10057812             7543359             4903183    2647719   \n",
       "1 2021-02-01 10051472             7538604             4900093    2646050   \n",
       "2 2021-03-01 10554046             7915534             5145097    2778353   \n",
       "3 2021-04-01 11081748             8311311             5402352    2917270   \n",
       "4 2021-05-01 11635835             8726876             5672470    3063134   \n",
       "\n",
       "   Conclusão da reserva  \n",
       "0               1191474  \n",
       "1               1190723  \n",
       "2               1250259  \n",
       "3               1312772  \n",
       "4               1378410  "
      ]
     },
     "execution_count": 31,
     "metadata": {},
     "output_type": "execute_result"
    }
   ],
   "source": [
    "df_argentina.head()"
   ]
  },
  {
   "cell_type": "markdown",
   "metadata": {},
   "source": [
    "Funil 1: Da etapa Home para Resultado de Busca"
   ]
  },
  {
   "cell_type": "code",
   "execution_count": 32,
   "metadata": {},
   "outputs": [
    {
     "data": {
      "text/plain": [
       "np.float64(0.75)"
      ]
     },
     "execution_count": 32,
     "metadata": {},
     "output_type": "execute_result"
    }
   ],
   "source": [
    "(df_argentina['Resultado de busca'].sum()/df_argentina['Home'].sum()).round(2)"
   ]
  },
  {
   "cell_type": "markdown",
   "metadata": {},
   "source": [
    "Funil 2: Da etapa Resultado de busca para Detalhes do imóvel"
   ]
  },
  {
   "cell_type": "code",
   "execution_count": 33,
   "metadata": {},
   "outputs": [
    {
     "data": {
      "text/plain": [
       "np.float64(0.65)"
      ]
     },
     "execution_count": 33,
     "metadata": {},
     "output_type": "execute_result"
    }
   ],
   "source": [
    "(df_argentina['Detalhes do imóvel'].sum()/df_argentina['Resultado de busca'].sum()).round(2)"
   ]
  },
  {
   "cell_type": "markdown",
   "metadata": {},
   "source": [
    "Funil 3: Da etapa Detalhes do imóvel para Check-out"
   ]
  },
  {
   "cell_type": "code",
   "execution_count": 34,
   "metadata": {},
   "outputs": [
    {
     "data": {
      "text/plain": [
       "np.float64(0.54)"
      ]
     },
     "execution_count": 34,
     "metadata": {},
     "output_type": "execute_result"
    }
   ],
   "source": [
    "(df_argentina['Check-out'].sum()/df_argentina['Detalhes do imóvel'].sum()).round(2)"
   ]
  },
  {
   "cell_type": "markdown",
   "metadata": {},
   "source": [
    "Funil 4: Da etapa Check-out para Conclusão da reserva"
   ]
  },
  {
   "cell_type": "code",
   "execution_count": 35,
   "metadata": {},
   "outputs": [
    {
     "data": {
      "text/plain": [
       "np.float64(0.45)"
      ]
     },
     "execution_count": 35,
     "metadata": {},
     "output_type": "execute_result"
    }
   ],
   "source": [
    "(df_argentina['Conclusão da reserva'].sum()/df_argentina['Check-out'].sum()).round(2)"
   ]
  },
  {
   "cell_type": "markdown",
   "metadata": {},
   "source": [
    "Vamos calcular a queda percentual entre cada etapa:\n",
    "\n",
    "1. Da etapa 1 para etapa 2: (0.75 - 0.65)/0.75 = 0.13 ou 13%\n",
    "2. Da etapa 2 para etapa 3: (0.65 - 0.54)/0.65 = 0.169 ou 16.9%\n",
    "3. Da etapa 3 para etapa 4: (0.54 - 0.45)/0.54 = 0.166 ou 16.6%\n",
    "\n",
    "Por fim, a conversão geral:\n",
    "\n",
    "Conversão geral = Etapa 1 × Etapa 2 × Etapa 3 × Etapa 4  \n",
    "Conversão geral = 0.75 × 0.65 × 0.54 × 0.45  \n",
    "Conversão geral ≈ 0.118\n",
    "\n",
    "Conclui-se que:\n",
    "\n",
    "- Na Argentina, a maior perda de visitantes ocorre \"Da etapa Detalhes do Imóvel para Check-out\"\n",
    "- A conversão geral no Argentina é de 11.8%."
   ]
  },
  {
   "cell_type": "markdown",
   "metadata": {},
   "source": [
    "## Qual país possui a maior conversão geral, da home à conclusão da reserva, durante o ano de 2022?"
   ]
  },
  {
   "cell_type": "markdown",
   "metadata": {},
   "source": [
    "O Brasil é o país que possui maior conversão geral entre os 4 países, seguido por México, Colômbia e Argentina. Esta métrica mostra a proporção de usuários que completam a jornada de home a conclusão da reserva."
   ]
  },
  {
   "cell_type": "markdown",
   "metadata": {},
   "source": [
    "## Em qual etapa do funil existe maior perda de visitantes em cada um dos países?"
   ]
  },
  {
   "cell_type": "markdown",
   "metadata": {},
   "source": [
    "A maior perda de visitantes ocorre na etapa **Detalhes do imóvel para Check-out**, isso indica uma enorme dificuldade de converter clientes."
   ]
  }
 ],
 "metadata": {
  "kernelspec": {
   "display_name": ".venv",
   "language": "python",
   "name": "python3"
  },
  "language_info": {
   "codemirror_mode": {
    "name": "ipython",
    "version": 3
   },
   "file_extension": ".py",
   "mimetype": "text/x-python",
   "name": "python",
   "nbconvert_exporter": "python",
   "pygments_lexer": "ipython3",
   "version": "3.13.2"
  }
 },
 "nbformat": 4,
 "nbformat_minor": 2
}
